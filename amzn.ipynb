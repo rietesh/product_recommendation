{
 "cells": [
  {
   "cell_type": "code",
   "execution_count": 9,
   "metadata": {},
   "outputs": [],
   "source": [
    "import os\n",
    "import pandas as pd\n",
    "import gzip\n",
    "import json\n",
    "import numpy as np\n",
    "import re\n",
    "from sklearn.preprocessing import LabelEncoder\n",
    "from sklearn.metrics import accuracy_score\n",
    "\n",
    "def parse(path):\n",
    "  g = open(path, 'rb')\n",
    "  for l in g:\n",
    "    yield json.loads(l)\n",
    "\n",
    "def getDF(path):\n",
    "  i = 0\n",
    "  df = {}\n",
    "  for d in parse(path):\n",
    "    df[i] = d\n",
    "    i += 1\n",
    "  return pd.DataFrame.from_dict(df, orient='index')\n"
   ]
  },
  {
   "cell_type": "code",
   "execution_count": 10,
   "metadata": {},
   "outputs": [
    {
     "name": "stdout",
     "output_type": "stream",
     "text": [
      "CPU times: user 13.4 s, sys: 1.06 s, total: 14.4 s\n",
      "Wall time: 14.4 s\n"
     ]
    }
   ],
   "source": [
    "%%time\n",
    "def finalDF(path):\n",
    "    finalDF = []\n",
    "    for i in path:\n",
    "        df = getDF('/home/rbhavi/Desktop/NLP/fastext/data/'+i)\n",
    "        df = df[['title']]\n",
    "        df = df.replace(r'^\\s*$', np.nan, regex=True)\n",
    "        df['hsn'] = i\n",
    "        df = df.dropna()\n",
    "        df = df.replace(r'[^A-Za-z]+', ' ', regex=True)\n",
    "        df = df.replace(r'\\s', '_', regex=True)\n",
    "        df['title'] = df['title'].str.lower()\n",
    "        finalDF.append(df)\n",
    "    return pd.concat(finalDF)\n",
    "data = finalDF(os.listdir('/home/rbhavi/Desktop/NLP/fastext/data'))\n",
    "le = LabelEncoder()\n",
    "data['hsn'] = le.fit_transform(data['hsn'])\n",
    "data['hsn'] = '__label__' + data['hsn'].astype(str)\n",
    "data = data[['hsn','title']]"
   ]
  },
  {
   "cell_type": "code",
   "execution_count": 11,
   "metadata": {},
   "outputs": [
    {
     "data": {
      "text/plain": [
       "((118824, 2), (39608, 2), (39608, 2))"
      ]
     },
     "execution_count": 11,
     "metadata": {},
     "output_type": "execute_result"
    }
   ],
   "source": [
    "train, valid, test = np.split(data.sample(frac=1), [int(.6*len(data)), int(.8*len(data))])\n",
    "train.shape, valid.shape, test.shape"
   ]
  },
  {
   "cell_type": "code",
   "execution_count": 12,
   "metadata": {},
   "outputs": [],
   "source": [
    "train.to_csv('final.train', index=False, header=False, sep='\\t')\n",
    "valid.to_csv('final.valid', index=False, header=False, sep='\\t')\n",
    "test.to_csv('final.test', index=False, header=False, sep='\\t')"
   ]
  },
  {
   "cell_type": "code",
   "execution_count": 13,
   "metadata": {},
   "outputs": [
    {
     "name": "stdout",
     "output_type": "stream",
     "text": [
      "CPU times: user 10h 2min 56s, sys: 1min 31s, total: 10h 4min 28s\n",
      "Wall time: 5min 7s\n"
     ]
    },
    {
     "data": {
      "text/plain": [
       "(39608, 0.9458695213088265, 0.9458695213088265)"
      ]
     },
     "execution_count": 13,
     "metadata": {},
     "output_type": "execute_result"
    }
   ],
   "source": [
    "%%time\n",
    "import fasttext\n",
    "model = fasttext.train_supervised(input=\"final.train\", autotuneValidationFile='final.valid', autotunePredictions=5)\n",
    "model.test(\"final.test\")"
   ]
  },
  {
   "cell_type": "code",
   "execution_count": 14,
   "metadata": {},
   "outputs": [],
   "source": [
    "def predict(row):\n",
    "    return model.predict(row['title'])[0][0]\n",
    "test['predictions'] = test.apply(predict,axis=1)"
   ]
  },
  {
   "cell_type": "code",
   "execution_count": 15,
   "metadata": {},
   "outputs": [
    {
     "data": {
      "text/plain": [
       "0.9458695213088265"
      ]
     },
     "execution_count": 15,
     "metadata": {},
     "output_type": "execute_result"
    }
   ],
   "source": [
    "accuracy_score(test['hsn'], test['predictions'])"
   ]
  },
  {
   "cell_type": "code",
   "execution_count": 16,
   "metadata": {},
   "outputs": [
    {
     "name": "stdout",
     "output_type": "stream",
     "text": [
      "CPU times: user 8min 12s, sys: 4.05 s, total: 8min 16s\n",
      "Wall time: 9min 4s\n"
     ]
    }
   ],
   "source": [
    "%%time\n",
    "def top5words(row):\n",
    "    return model.get_nearest_neighbors(row['title'])\n",
    "test['top5words'] = test.apply(top5words,axis=1)\n",
    "model.save_model(\"amzn.bin\")\n",
    "test.to_csv(\"results.csv\", index=False)"
   ]
  },
  {
   "cell_type": "code",
   "execution_count": null,
   "metadata": {},
   "outputs": [],
   "source": [
    "# train['title'].to_csv('model2.train', index=False, header=False, sep='\\t')\n",
    "# valid['title'].to_csv('model2.valid', index=False, header=False, sep='\\t')\n",
    "# test['title'].to_csv('model2.test', index=False, header=False, sep='\\t')"
   ]
  },
  {
   "cell_type": "code",
   "execution_count": null,
   "metadata": {},
   "outputs": [],
   "source": [
    "# %%time\n",
    "# model2 =  fasttext.train_unsupervised(input=\"model2.train\", minn=2, maxn=2, dim=200, epoch=10, lr=0.5)\n",
    "# model.save_model(\"model2.bin\")"
   ]
  },
  {
   "cell_type": "code",
   "execution_count": 17,
   "metadata": {},
   "outputs": [
    {
     "data": {
      "text/plain": [
       "array([-0.06729136, -0.00092826, -0.07790586, -0.0044092 ,  0.05097683,\n",
       "       -0.03384769, -0.05423024, -0.05745913,  0.13059792,  0.29227808,\n",
       "       -0.01361836,  0.00896457,  0.15631957,  0.06047435, -0.01795117,\n",
       "        0.03924633, -0.00709168,  0.05183536, -0.03886985, -0.04927716,\n",
       "        0.04626067, -0.01948514, -0.06271682, -0.08577275, -0.00614547,\n",
       "        0.06082454, -0.04923154,  0.04103671,  0.03868415,  0.01136865,\n",
       "        0.07431151, -0.03255565,  0.02567981, -0.05055358,  0.06582287,\n",
       "       -0.00829958, -0.03170949,  0.00582015, -0.04120429, -0.03589464,\n",
       "        0.07349437,  0.04236813, -0.0069772 ,  0.00413841,  0.00683583,\n",
       "        0.0285518 , -0.02267235,  0.05153627, -0.02544357, -0.03435444,\n",
       "       -0.02221516, -0.03335093, -0.05354708,  0.01927935,  0.05318545,\n",
       "        0.06520252, -0.04226614, -0.05368572], dtype=float32)"
      ]
     },
     "execution_count": 17,
     "metadata": {},
     "output_type": "execute_result"
    }
   ],
   "source": [
    "model.get_sentence_vector('amazon')"
   ]
  },
  {
   "cell_type": "code",
   "execution_count": 19,
   "metadata": {},
   "outputs": [
    {
     "data": {
      "text/plain": [
       "array([-0.03108178,  0.05534719, -0.05248678,  0.02645894,  0.00516311,\n",
       "        0.11499557,  0.06020023,  0.00214001,  0.01730405,  0.15281966,\n",
       "       -0.00185905,  0.00562164,  0.01843944,  0.00067251, -0.0006628 ,\n",
       "        0.10186821,  0.02604912, -0.00090765, -0.05424493, -0.03687399,\n",
       "        0.09187492, -0.03989654,  0.0398276 ,  0.02824774, -0.05477113,\n",
       "        0.05789005, -0.02230135,  0.07162599,  0.01619327,  0.00342114,\n",
       "        0.08553859, -0.031239  ,  0.03127193, -0.05484121,  0.07197117,\n",
       "       -0.00218725, -0.06064975, -0.01008458, -0.05866987, -0.02315177,\n",
       "        0.01700971,  0.0315505 , -0.01422148, -0.00130722, -0.02135808,\n",
       "        0.00326049, -0.03769902,  0.08370962,  0.02006318, -0.01296705,\n",
       "        0.00535279, -0.02528452, -0.02751887,  0.00963326, -0.00400634,\n",
       "       -0.00747982, -0.01907618, -0.04501597], dtype=float32)"
      ]
     },
     "execution_count": 19,
     "metadata": {},
     "output_type": "execute_result"
    }
   ],
   "source": [
    "model.get_word_vector('amazon')"
   ]
  },
  {
   "cell_type": "code",
   "execution_count": 20,
   "metadata": {},
   "outputs": [
    {
     "data": {
      "text/plain": [
       "104894"
      ]
     },
     "execution_count": 20,
     "metadata": {},
     "output_type": "execute_result"
    }
   ],
   "source": [
    "len(model.words)"
   ]
  },
  {
   "cell_type": "code",
   "execution_count": 21,
   "metadata": {},
   "outputs": [
    {
     "data": {
      "text/plain": [
       "False"
      ]
     },
     "execution_count": 21,
     "metadata": {},
     "output_type": "execute_result"
    }
   ],
   "source": [
    "'amazon' in model.words"
   ]
  },
  {
   "cell_type": "code",
   "execution_count": null,
   "metadata": {},
   "outputs": [],
   "source": []
  }
 ],
 "metadata": {
  "kernelspec": {
   "display_name": "Python 3",
   "language": "python",
   "name": "python3"
  },
  "language_info": {
   "codemirror_mode": {
    "name": "ipython",
    "version": 3
   },
   "file_extension": ".py",
   "mimetype": "text/x-python",
   "name": "python",
   "nbconvert_exporter": "python",
   "pygments_lexer": "ipython3",
   "version": "3.8.8"
  }
 },
 "nbformat": 4,
 "nbformat_minor": 4
}
